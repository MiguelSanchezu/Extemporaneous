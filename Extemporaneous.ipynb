{
  "cells": [
    {
      "cell_type": "markdown",
      "source": [
        "Compiling to C"
      ],
      "metadata": {
        "id": "E44jB0-Oz55h"
      },
      "id": "E44jB0-Oz55h"
    },
    {
      "cell_type": "code",
      "source": [
        "import pandas as pd\n",
        "import numpy as np\n",
        "import matplotlib.pyplot as plt\n",
        "import seaborn as sns\n",
        "import timeit\n",
        "import csv"
      ],
      "metadata": {
        "id": "e2XSVpmed8VF"
      },
      "id": "e2XSVpmed8VF",
      "execution_count": 3,
      "outputs": []
    },
    {
      "cell_type": "markdown",
      "source": [
        "# Python"
      ],
      "metadata": {
        "id": "pXop2PgwW_SG"
      },
      "id": "pXop2PgwW_SG"
    },
    {
      "cell_type": "code",
      "source": [
        "def update(lattice):\n",
        "    box_length = len(lattice) - 2\n",
        "    lattice_new = [[0 for _ in range(box_length + 2)] for _ in range(box_length + 2)]\n",
        "\n",
        "    for i in range(1, box_length + 1):\n",
        "        for j in range(1, box_length + 1):\n",
        "            lattice_new[i][j] = update_rule(lattice, i, j)\n",
        "    return lattice_new\n",
        "\n",
        "def update_rule(lattice, i, j):\n",
        "    n_neigh = lattice[i + 1][j] + lattice[i][j + 1] + lattice[i + 1][j + 1] + \\\n",
        "              lattice[i - 1][j] + lattice[i][j - 1] + lattice[i - 1][j - 1] + \\\n",
        "              lattice[i - 1][j + 1] + lattice[i + 1][j - 1]\n",
        "\n",
        "    if (lattice[i][j] == 1) and (n_neigh in [2, 3]):\n",
        "        return 1\n",
        "    elif lattice[i][j] == 1:\n",
        "        return 0\n",
        "    elif (lattice[i][j] == 0) and (n_neigh == 3):\n",
        "        return 1\n",
        "    else:\n",
        "        return 0\n",
        "\n",
        "\n",
        "# Measuring execution time when box size is 3000\n",
        "def main():\n",
        "    box_length = 300\n",
        "    lattice = np.random.randint(2, size=(box_length + 2, box_length + 2))\n",
        "    for _ in range(300):\n",
        "        lattice = update(lattice)\n",
        "    return lattice\n",
        "\n",
        "if __name__ == '__main__':\n",
        "    print(timeit.timeit(main, number=1))\n",
        "\n",
        "\n",
        "with open('time.csv', mode='a') as file:\n",
        "    writer = csv.writer(file)\n",
        "    writer.writerow(['python', timeit.timeit(main, number=1)])"
      ],
      "metadata": {
        "colab": {
          "base_uri": "https://localhost:8080/"
        },
        "id": "RHAYXEwFSjCh",
        "outputId": "5c157091-b341-4af6-aed3-87fa78b15628"
      },
      "id": "RHAYXEwFSjCh",
      "execution_count": 2,
      "outputs": [
        {
          "output_type": "stream",
          "name": "stdout",
          "text": [
            "32.938508432999996\n"
          ]
        }
      ]
    },
    {
      "cell_type": "markdown",
      "source": [
        "# Cython"
      ],
      "metadata": {
        "id": "Ls7-Jshxo3X9"
      },
      "id": "Ls7-Jshxo3X9"
    },
    {
      "cell_type": "code",
      "execution_count": 4,
      "id": "d7316204",
      "metadata": {
        "id": "d7316204",
        "outputId": "91bec6bb-b8ba-4546-b65e-879b347abe22",
        "colab": {
          "base_uri": "https://localhost:8080/"
        }
      },
      "outputs": [
        {
          "output_type": "stream",
          "name": "stdout",
          "text": [
            "Requirement already satisfied: cython in /usr/local/lib/python3.10/dist-packages (3.0.10)\n"
          ]
        }
      ],
      "source": [
        "!pip install cython\n",
        "%load_ext Cython"
      ]
    },
    {
      "cell_type": "code",
      "source": [
        "%%writefile setup.py\n",
        "from setuptools import setup, Extension\n",
        "from Cython.Build import cythonize\n",
        "import os\n",
        "\n",
        "# Specify the .pyx files\n",
        "pyx_files = [\n",
        "    \"cython1.pyx\",\n",
        "    \"cython2.pyx\",\n",
        "    \"cython3.pyx\",\n",
        "    \"cython4.pyx\",\n",
        "]\n",
        "\n",
        "# generate extensions from the .pyx files\n",
        "extensions = [Extension(os.path.splitext(file)[0], [file]) for file in pyx_files]\n",
        "\n",
        "# Cythonize extensions with some additional compiler directives\n",
        "setup(\n",
        "    ext_modules=cythonize(\n",
        "        extensions,\n",
        "        compiler_directives={'language_level': \"3\", 'embedsignature': True}\n",
        "    ),\n",
        ")"
      ],
      "metadata": {
        "colab": {
          "base_uri": "https://localhost:8080/"
        },
        "id": "M1_FOZF6y1mQ",
        "outputId": "80d18960-4010-4453-c476-c724ce02306f"
      },
      "id": "M1_FOZF6y1mQ",
      "execution_count": 5,
      "outputs": [
        {
          "output_type": "stream",
          "name": "stdout",
          "text": [
            "Writing setup.py\n"
          ]
        }
      ]
    },
    {
      "cell_type": "code",
      "execution_count": 6,
      "id": "bb07d65a",
      "metadata": {
        "id": "bb07d65a",
        "colab": {
          "base_uri": "https://localhost:8080/"
        },
        "outputId": "d5a317ab-c2e1-41a8-843d-9b91548fbae3"
      },
      "outputs": [
        {
          "output_type": "stream",
          "name": "stdout",
          "text": [
            "Compiling cython1.pyx because it changed.\n",
            "Compiling cython2.pyx because it changed.\n",
            "Compiling cython3.pyx because it changed.\n",
            "Compiling cython4.pyx because it changed.\n",
            "[1/4] Cythonizing cython1.pyx\n",
            "[2/4] Cythonizing cython2.pyx\n",
            "[3/4] Cythonizing cython3.pyx\n",
            "[4/4] Cythonizing cython4.pyx\n",
            "running build_ext\n",
            "building 'cython1' extension\n",
            "creating build\n",
            "creating build/temp.linux-x86_64-cpython-310\n",
            "x86_64-linux-gnu-gcc -Wno-unused-result -Wsign-compare -DNDEBUG -g -fwrapv -O2 -Wall -g -fstack-protector-strong -Wformat -Werror=format-security -g -fwrapv -O2 -fPIC -I/usr/include/python3.10 -c cython1.c -o build/temp.linux-x86_64-cpython-310/cython1.o\n",
            "creating build/lib.linux-x86_64-cpython-310\n",
            "x86_64-linux-gnu-gcc -shared -Wl,-O1 -Wl,-Bsymbolic-functions -Wl,-Bsymbolic-functions -g -fwrapv -O2 build/temp.linux-x86_64-cpython-310/cython1.o -L/usr/lib/x86_64-linux-gnu -o build/lib.linux-x86_64-cpython-310/cython1.cpython-310-x86_64-linux-gnu.so\n",
            "building 'cython2' extension\n",
            "x86_64-linux-gnu-gcc -Wno-unused-result -Wsign-compare -DNDEBUG -g -fwrapv -O2 -Wall -g -fstack-protector-strong -Wformat -Werror=format-security -g -fwrapv -O2 -fPIC -I/usr/include/python3.10 -c cython2.c -o build/temp.linux-x86_64-cpython-310/cython2.o\n",
            "x86_64-linux-gnu-gcc -shared -Wl,-O1 -Wl,-Bsymbolic-functions -Wl,-Bsymbolic-functions -g -fwrapv -O2 build/temp.linux-x86_64-cpython-310/cython2.o -L/usr/lib/x86_64-linux-gnu -o build/lib.linux-x86_64-cpython-310/cython2.cpython-310-x86_64-linux-gnu.so\n",
            "building 'cython3' extension\n",
            "x86_64-linux-gnu-gcc -Wno-unused-result -Wsign-compare -DNDEBUG -g -fwrapv -O2 -Wall -g -fstack-protector-strong -Wformat -Werror=format-security -g -fwrapv -O2 -fPIC -I/usr/include/python3.10 -c cython3.c -o build/temp.linux-x86_64-cpython-310/cython3.o\n",
            "x86_64-linux-gnu-gcc -shared -Wl,-O1 -Wl,-Bsymbolic-functions -Wl,-Bsymbolic-functions -g -fwrapv -O2 build/temp.linux-x86_64-cpython-310/cython3.o -L/usr/lib/x86_64-linux-gnu -o build/lib.linux-x86_64-cpython-310/cython3.cpython-310-x86_64-linux-gnu.so\n",
            "building 'cython4' extension\n",
            "x86_64-linux-gnu-gcc -Wno-unused-result -Wsign-compare -DNDEBUG -g -fwrapv -O2 -Wall -g -fstack-protector-strong -Wformat -Werror=format-security -g -fwrapv -O2 -fPIC -I/usr/include/python3.10 -c cython4.c -o build/temp.linux-x86_64-cpython-310/cython4.o\n",
            "x86_64-linux-gnu-gcc -shared -Wl,-O1 -Wl,-Bsymbolic-functions -Wl,-Bsymbolic-functions -g -fwrapv -O2 build/temp.linux-x86_64-cpython-310/cython4.o -L/usr/lib/x86_64-linux-gnu -o build/lib.linux-x86_64-cpython-310/cython4.cpython-310-x86_64-linux-gnu.so\n",
            "copying build/lib.linux-x86_64-cpython-310/cython1.cpython-310-x86_64-linux-gnu.so -> \n",
            "copying build/lib.linux-x86_64-cpython-310/cython2.cpython-310-x86_64-linux-gnu.so -> \n",
            "copying build/lib.linux-x86_64-cpython-310/cython3.cpython-310-x86_64-linux-gnu.so -> \n",
            "copying build/lib.linux-x86_64-cpython-310/cython4.cpython-310-x86_64-linux-gnu.so -> \n"
          ]
        }
      ],
      "source": [
        "!python setup.py build_ext --inplace"
      ]
    },
    {
      "cell_type": "markdown",
      "source": [
        "## Cython 1"
      ],
      "metadata": {
        "id": "AW55pKuad9eP"
      },
      "id": "AW55pKuad9eP"
    },
    {
      "cell_type": "code",
      "source": [
        "from cython1 import update as update_cython1\n",
        "\n",
        "def run_simulation():\n",
        "    box_length = 300\n",
        "    lattice = np.random.randint(2, size=(box_length + 2, box_length + 2))\n",
        "    for _ in range(300):\n",
        "        lattice = update_cython1(lattice)\n",
        "    return lattice\n",
        "\n",
        "def record_time_to_csv(filename, method_name, execution_time):\n",
        "    with open(filename, mode='a', newline='') as file:\n",
        "        writer = csv.writer(file)\n",
        "        writer.writerow([method_name, execution_time])\n",
        "\n",
        "def main():\n",
        "    # Measure the execution time\n",
        "    execution_time = timeit.timeit(run_simulation, number=1)\n",
        "    print(f\"Execution time: {execution_time} seconds\")\n",
        "\n",
        "    # Record the execution time to CSV\n",
        "    record_time_to_csv('time.csv', 'cython1', execution_time)\n",
        "\n",
        "if __name__ == '__main__':\n",
        "    main()"
      ],
      "metadata": {
        "colab": {
          "base_uri": "https://localhost:8080/"
        },
        "id": "C06xB7Q8zldC",
        "outputId": "2cf97450-c259-43f8-c8ad-1d4afb8c4c6a"
      },
      "id": "C06xB7Q8zldC",
      "execution_count": 7,
      "outputs": [
        {
          "output_type": "stream",
          "name": "stdout",
          "text": [
            "Execution time: 25.62308467600002 seconds\n"
          ]
        }
      ]
    },
    {
      "cell_type": "markdown",
      "source": [
        "## Cython 2"
      ],
      "metadata": {
        "id": "jlluUCSR0cjE"
      },
      "id": "jlluUCSR0cjE"
    },
    {
      "cell_type": "code",
      "execution_count": 8,
      "id": "04d70055",
      "metadata": {
        "id": "04d70055",
        "outputId": "fb846103-2c2e-4d4c-af86-cff1ee8941de",
        "colab": {
          "base_uri": "https://localhost:8080/"
        }
      },
      "outputs": [
        {
          "output_type": "stream",
          "name": "stdout",
          "text": [
            "Execution time: 6.395091680999997 seconds\n"
          ]
        }
      ],
      "source": [
        "from cython2 import update as update_cython2\n",
        "\n",
        "def run_simulation():\n",
        "    box_length = 300\n",
        "    lattice = np.random.randint(2, size=(box_length + 2, box_length + 2))\n",
        "    for _ in range(300):\n",
        "        lattice = update_cython2(lattice)\n",
        "    return lattice\n",
        "\n",
        "def record_time_to_csv(filename, method_name, execution_time):\n",
        "    with open(filename, mode='a', newline='') as file:\n",
        "        writer = csv.writer(file)\n",
        "        writer.writerow([method_name, execution_time])\n",
        "\n",
        "def main():\n",
        "    # Measure the execution time\n",
        "    execution_time = timeit.timeit(run_simulation, number=1)\n",
        "    print(f\"Execution time: {execution_time} seconds\")\n",
        "\n",
        "    # Record the execution time to CSV\n",
        "    record_time_to_csv('time.csv', 'cython2', execution_time)\n",
        "\n",
        "if __name__ == '__main__':\n",
        "    main()"
      ]
    },
    {
      "cell_type": "markdown",
      "source": [
        "## Cython 3"
      ],
      "metadata": {
        "id": "x74nqOYy0eec"
      },
      "id": "x74nqOYy0eec"
    },
    {
      "cell_type": "code",
      "execution_count": 9,
      "id": "2697e4cc",
      "metadata": {
        "id": "2697e4cc",
        "outputId": "d405c699-20b3-4a9e-e53a-56f325febe9d",
        "colab": {
          "base_uri": "https://localhost:8080/"
        }
      },
      "outputs": [
        {
          "output_type": "stream",
          "name": "stdout",
          "text": [
            "Execution time: 7.051647295999999 seconds\n"
          ]
        }
      ],
      "source": [
        "from cython3 import update as update_cython3\n",
        "\n",
        "def run_simulation():\n",
        "    box_length = 300\n",
        "    lattice = np.random.randint(2, size=(box_length + 2, box_length + 2))\n",
        "    for _ in range(300):\n",
        "        lattice = update_cython3(lattice)\n",
        "    return lattice\n",
        "\n",
        "def record_time_to_csv(filename, method_name, execution_time):\n",
        "    with open(filename, mode='a', newline='') as file:\n",
        "        writer = csv.writer(file)\n",
        "        writer.writerow([method_name, execution_time])\n",
        "\n",
        "def main():\n",
        "    # Measure the execution time\n",
        "    execution_time = timeit.timeit(run_simulation, number=1)\n",
        "    print(f\"Execution time: {execution_time} seconds\")\n",
        "\n",
        "    # Record the execution time to CSV\n",
        "    record_time_to_csv('time.csv', 'cython3', execution_time)\n",
        "\n",
        "if __name__ == '__main__':\n",
        "    main()"
      ]
    },
    {
      "cell_type": "markdown",
      "source": [
        "## Cython 4"
      ],
      "metadata": {
        "id": "swGRfn2p0gA9"
      },
      "id": "swGRfn2p0gA9"
    },
    {
      "cell_type": "code",
      "execution_count": 10,
      "id": "a399b610",
      "metadata": {
        "id": "a399b610",
        "outputId": "57a28b8c-4cd7-48f1-867f-d1f56c168afb",
        "colab": {
          "base_uri": "https://localhost:8080/"
        }
      },
      "outputs": [
        {
          "output_type": "stream",
          "name": "stdout",
          "text": [
            "Execution time: 5.070507716000009 seconds\n"
          ]
        }
      ],
      "source": [
        "from cython4 import update as update_cython4\n",
        "\n",
        "def run_simulation():\n",
        "    box_length = 300\n",
        "    lattice = np.random.randint(2, size=(box_length + 2, box_length + 2))\n",
        "    for _ in range(300):\n",
        "        lattice = update_cython4(lattice)\n",
        "    return lattice\n",
        "\n",
        "def record_time_to_csv(filename, method_name, execution_time):\n",
        "    with open(filename, mode='a', newline='') as file:\n",
        "        writer = csv.writer(file)\n",
        "        writer.writerow([method_name, execution_time])\n",
        "\n",
        "def main():\n",
        "    # Measure the execution time\n",
        "    execution_time = timeit.timeit(run_simulation, number=1)\n",
        "    print(f\"Execution time: {execution_time} seconds\")\n",
        "\n",
        "    # Record the execution time to CSV\n",
        "    record_time_to_csv('time.csv', 'cython4', execution_time)\n",
        "\n",
        "if __name__ == '__main__':\n",
        "    main()"
      ]
    },
    {
      "cell_type": "markdown",
      "source": [
        "# Plotting Results"
      ],
      "metadata": {
        "id": "hH2yO70q0h7o"
      },
      "id": "hH2yO70q0h7o"
    },
    {
      "cell_type": "code",
      "source": [
        "df = pd.read_csv('time.csv')"
      ],
      "metadata": {
        "id": "4OZhnlFy0zxb"
      },
      "id": "4OZhnlFy0zxb",
      "execution_count": 11,
      "outputs": []
    },
    {
      "cell_type": "code",
      "source": [
        "# Prepending 'python' to the labels list\n",
        "labels = ['python'] + df.iloc[:, 0].astype(str).tolist()\n",
        "\n",
        "# Prepending the execution time for Python to the times list\n",
        "times = [34.33653235] + df.iloc[:, 1].tolist()"
      ],
      "metadata": {
        "id": "ds-2KBnYvjLB"
      },
      "id": "ds-2KBnYvjLB",
      "execution_count": 12,
      "outputs": []
    },
    {
      "cell_type": "code",
      "source": [
        "plt.figure(figsize=(10, 6))\n",
        "sns.barplot(x=labels, y=times)\n",
        "plt.title('Execution Time Comparison')\n",
        "plt.xlabel('Implementation')\n",
        "plt.ylabel('Time (s)')\n",
        "plt.xticks(rotation=45)\n",
        "plt.tight_layout()\n",
        "\n",
        "plt.show()"
      ],
      "metadata": {
        "colab": {
          "base_uri": "https://localhost:8080/",
          "height": 607
        },
        "id": "VwSMwHxIwnUj",
        "outputId": "be53f81e-3fa9-49bd-83a5-a30379adf637"
      },
      "id": "VwSMwHxIwnUj",
      "execution_count": 13,
      "outputs": [
        {
          "output_type": "display_data",
          "data": {
            "text/plain": [
              "<Figure size 1000x600 with 1 Axes>"
            ],
            "image/png": "[encoded data removed]"
          },
          "metadata": {}
        }
      ]
    }
  ],
  "metadata": {
    "kernelspec": {
      "display_name": "UPY",
      "language": "python",
      "name": "python3"
    },
    "language_info": {
      "codemirror_mode": {
        "name": "ipython",
        "version": 3
      },
      "file_extension": ".py",
      "mimetype": "text/x-python",
      "name": "python",
      "nbconvert_exporter": "python",
      "pygments_lexer": "ipython3",
      "version": "3.8.18"
    },
    "colab": {
      "provenance": []
    }
  },
  "nbformat": 4,
  "nbformat_minor": 5
}